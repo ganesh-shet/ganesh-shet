{
  "nbformat": 4,
  "nbformat_minor": 0,
  "metadata": {
    "colab": {
      "name": "Ecommerce_scraping.ipynb",
      "provenance": [],
      "collapsed_sections": [],
      "authorship_tag": "ABX9TyPsiqVRLghW0Kui5XACs4Wm",
      "include_colab_link": true
    },
    "kernelspec": {
      "name": "python3",
      "display_name": "Python 3"
    },
    "language_info": {
      "name": "python"
    }
  },
  "cells": [
    {
      "cell_type": "markdown",
      "metadata": {
        "id": "view-in-github",
        "colab_type": "text"
      },
      "source": [
        "<a href=\"https://colab.research.google.com/github/ganesh-shet/ganesh-shet/blob/main/Ecommerce_scraping.ipynb\" target=\"_parent\"><img src=\"https://colab.research.google.com/assets/colab-badge.svg\" alt=\"Open In Colab\"/></a>"
      ]
    },
    {
      "cell_type": "code",
      "metadata": {
        "id": "9ziQftgOP2lj"
      },
      "source": [
        "import csv\n",
        "from bs4 import BeautifulSoup\n",
        "import requests\n",
        "import pandas as pd\n"
      ],
      "execution_count": null,
      "outputs": []
    },
    {
      "cell_type": "markdown",
      "metadata": {
        "id": "Pzj0UoI9hgJD"
      },
      "source": [
        "***Creating lists to store descriptions***"
      ]
    },
    {
      "cell_type": "code",
      "metadata": {
        "id": "itCBSeEDhv7X"
      },
      "source": [
        "\n",
        "descriptions = []\n",
        "processors = []\n",
        "ram = []\n",
        "storage = []\n",
        "inches = []\n",
        "warranty = []\n",
        "prices = []\n",
        "os = []\n"
      ],
      "execution_count": null,
      "outputs": []
    },
    {
      "cell_type": "code",
      "metadata": {
        "id": "T7RGqJ4TiApH"
      },
      "source": [
        "pages = list(range(1,21))\n",
        "for page in pages:\n",
        "  # URL of the website which you want to scrape\n",
        "  response = requests.get(\"https://www.flipkart.com/search?q=laptops&otracker=search&otracker1=search&marketplace=FLIPKART&as-show=on&as=off&page={}\".format(page)).text  \n",
        "  #content = req.content # Get the content\n",
        "  soup = BeautifulSoup(response,'html.parser')\n",
        "  #print(soup.prettify())\n",
        "\n",
        "  desc = soup.find_all('div' , class_='_4rR01T')\n",
        "  for i in range(len(desc)):\n",
        "      descriptions.append(desc[i].text)\n",
        "  len(descriptions)\n",
        "\n",
        "  commonclass = soup.find_all('li',class_='rgWa7D') \n",
        "  # Create empty lists for the features\n",
        "  for i in range(0,len(commonclass)):\n",
        "    p=commonclass[i].text # Extracting the text from the tags\n",
        "    if(\"Core\" in p): \n",
        "        processors.append(p)\n",
        "    elif(\"RAM\" in p): \n",
        "        ram.append(p)\n",
        "    elif(\"HDD\" in p or \"SSD\" in p):\n",
        "        storage.append(p)\n",
        "    elif(\"Operating\" in p):\n",
        "        os.append(p)\n",
        "    elif(\"Display\" in p):\n",
        "        inches.append(p)\n",
        "    elif(\"Warranty\" in p):\n",
        "        warranty.append(p)\n",
        "\n",
        "\n",
        "  price = soup.find_all('div', class_ = '_30jeq3 _1_WHN1') \n",
        "  # Extracting price of each laptop from the website\n",
        "  for i in range(len(price)):\n",
        "    prices.append(price[i].text)\n",
        "    len(prices)\n",
        "\n",
        "     \n"
      ],
      "execution_count": null,
      "outputs": []
    },
    {
      "cell_type": "code",
      "metadata": {
        "colab": {
          "base_uri": "https://localhost:8080/"
        },
        "id": "4EA6w3xcjMhP",
        "outputId": "41844f52-8293-4dd8-eb49-2265367480cc"
      },
      "source": [
        "\n",
        "print(len(descriptions))\n",
        "print(len(processors))\n",
        "print(len(ram))\n",
        "print(len(os))\n",
        "print(len(storage))\n",
        "print(len(warranty))\n",
        "print(len(inches))\n",
        "print(len(prices))\n"
      ],
      "execution_count": null,
      "outputs": [
        {
          "output_type": "stream",
          "text": [
            "480\n",
            "479\n",
            "481\n",
            "490\n",
            "485\n",
            "461\n",
            "485\n",
            "480\n"
          ],
          "name": "stdout"
        }
      ]
    },
    {
      "cell_type": "code",
      "metadata": {
        "id": "5NxIhb9nmGfL"
      },
      "source": [
        "\n",
        "df = {'Description':descriptions[20],'Processor':processors[20],'RAM':ram[20],'Operating System':os[slice(20)],'Storage':storage[slice(20)],'Display':inches[slice(20)],'Warranty':warranty[slice(20)],'Price':prices[slice(20)]}\n",
        "dataset = pd.DataFrame(data = df) "
      ],
      "execution_count": null,
      "outputs": []
    },
    {
      "cell_type": "code",
      "metadata": {
        "colab": {
          "base_uri": "https://localhost:8080/",
          "height": 1000
        },
        "id": "E69b7c9lEOgc",
        "outputId": "5d09d3af-3e53-4af7-cd34-7dd3b9a7240f"
      },
      "source": [
        "dataset"
      ],
      "execution_count": null,
      "outputs": [
        {
          "output_type": "execute_result",
          "data": {
            "text/html": [
              "<div>\n",
              "<style scoped>\n",
              "    .dataframe tbody tr th:only-of-type {\n",
              "        vertical-align: middle;\n",
              "    }\n",
              "\n",
              "    .dataframe tbody tr th {\n",
              "        vertical-align: top;\n",
              "    }\n",
              "\n",
              "    .dataframe thead th {\n",
              "        text-align: right;\n",
              "    }\n",
              "</style>\n",
              "<table border=\"1\" class=\"dataframe\">\n",
              "  <thead>\n",
              "    <tr style=\"text-align: right;\">\n",
              "      <th></th>\n",
              "      <th>Description</th>\n",
              "      <th>Processor</th>\n",
              "      <th>RAM</th>\n",
              "      <th>Operating System</th>\n",
              "      <th>Storage</th>\n",
              "      <th>Display</th>\n",
              "      <th>Warranty</th>\n",
              "      <th>Price</th>\n",
              "    </tr>\n",
              "  </thead>\n",
              "  <tbody>\n",
              "    <tr>\n",
              "      <th>0</th>\n",
              "      <td>HP 15s Ryzen 3 Dual Core 3250U - (8 GB/1 TB HD...</td>\n",
              "      <td>AMD Ryzen 3 Dual Core Processor</td>\n",
              "      <td>8 GB DDR4 RAM</td>\n",
              "      <td>64 bit Windows 10 Operating System</td>\n",
              "      <td>2 TB SSD</td>\n",
              "      <td>39.62 cm (15.6 inch) Display</td>\n",
              "      <td>1 Year Onsite Warranty</td>\n",
              "      <td>₹2,99,990</td>\n",
              "    </tr>\n",
              "    <tr>\n",
              "      <th>1</th>\n",
              "      <td>HP 15s Ryzen 3 Dual Core 3250U - (8 GB/1 TB HD...</td>\n",
              "      <td>AMD Ryzen 3 Dual Core Processor</td>\n",
              "      <td>8 GB DDR4 RAM</td>\n",
              "      <td>64 bit Windows 10 Operating System</td>\n",
              "      <td>512 GB SSD</td>\n",
              "      <td>39.62 cm (15.6 inch) Display</td>\n",
              "      <td>1 Year International Travelers Warranty</td>\n",
              "      <td>₹59,990</td>\n",
              "    </tr>\n",
              "    <tr>\n",
              "      <th>2</th>\n",
              "      <td>HP 15s Ryzen 3 Dual Core 3250U - (8 GB/1 TB HD...</td>\n",
              "      <td>AMD Ryzen 3 Dual Core Processor</td>\n",
              "      <td>8 GB DDR4 RAM</td>\n",
              "      <td>64 bit Windows 10 Operating System</td>\n",
              "      <td>512 GB SSD</td>\n",
              "      <td>39.62 cm (15.6 inch) Display</td>\n",
              "      <td>1 Year Onsite Warranty</td>\n",
              "      <td>₹61,990</td>\n",
              "    </tr>\n",
              "    <tr>\n",
              "      <th>3</th>\n",
              "      <td>HP 15s Ryzen 3 Dual Core 3250U - (8 GB/1 TB HD...</td>\n",
              "      <td>AMD Ryzen 3 Dual Core Processor</td>\n",
              "      <td>8 GB DDR4 RAM</td>\n",
              "      <td>64 bit Windows 10 Operating System</td>\n",
              "      <td>1 TB HDD|256 GB SSD</td>\n",
              "      <td>39.62 cm (15.6 inch) Display</td>\n",
              "      <td>1 Year Onsite Warranty</td>\n",
              "      <td>₹44,490</td>\n",
              "    </tr>\n",
              "    <tr>\n",
              "      <th>4</th>\n",
              "      <td>HP 15s Ryzen 3 Dual Core 3250U - (8 GB/1 TB HD...</td>\n",
              "      <td>AMD Ryzen 3 Dual Core Processor</td>\n",
              "      <td>8 GB DDR4 RAM</td>\n",
              "      <td>64 bit Windows 10 Operating System</td>\n",
              "      <td>256 GB SSD</td>\n",
              "      <td>39.62 cm (15.6 inch) Display</td>\n",
              "      <td>1 Year Onsite Warranty</td>\n",
              "      <td>₹35,847</td>\n",
              "    </tr>\n",
              "    <tr>\n",
              "      <th>5</th>\n",
              "      <td>HP 15s Ryzen 3 Dual Core 3250U - (8 GB/1 TB HD...</td>\n",
              "      <td>AMD Ryzen 3 Dual Core Processor</td>\n",
              "      <td>8 GB DDR4 RAM</td>\n",
              "      <td>64 bit Windows 10 Operating System</td>\n",
              "      <td>1 TB HDD</td>\n",
              "      <td>39.62 cm (15.6 inches) Display</td>\n",
              "      <td>1 Year Onsite Warranty</td>\n",
              "      <td>₹26,990</td>\n",
              "    </tr>\n",
              "    <tr>\n",
              "      <th>6</th>\n",
              "      <td>HP 15s Ryzen 3 Dual Core 3250U - (8 GB/1 TB HD...</td>\n",
              "      <td>AMD Ryzen 3 Dual Core Processor</td>\n",
              "      <td>8 GB DDR4 RAM</td>\n",
              "      <td>64 bit Windows 10 Operating System</td>\n",
              "      <td>256 GB SSD</td>\n",
              "      <td>39.62 cm (15.6 inch) Display</td>\n",
              "      <td>1 Year Domestic Brand Warranty on Device</td>\n",
              "      <td>₹41,490</td>\n",
              "    </tr>\n",
              "    <tr>\n",
              "      <th>7</th>\n",
              "      <td>HP 15s Ryzen 3 Dual Core 3250U - (8 GB/1 TB HD...</td>\n",
              "      <td>AMD Ryzen 3 Dual Core Processor</td>\n",
              "      <td>8 GB DDR4 RAM</td>\n",
              "      <td>64 bit Windows 10 Operating System</td>\n",
              "      <td>256 GB SSD</td>\n",
              "      <td>35.56 cm (14 inch) Display</td>\n",
              "      <td>1 Year Onsite Warranty</td>\n",
              "      <td>₹42,250</td>\n",
              "    </tr>\n",
              "    <tr>\n",
              "      <th>8</th>\n",
              "      <td>HP 15s Ryzen 3 Dual Core 3250U - (8 GB/1 TB HD...</td>\n",
              "      <td>AMD Ryzen 3 Dual Core Processor</td>\n",
              "      <td>8 GB DDR4 RAM</td>\n",
              "      <td>64 bit Windows 10 Operating System</td>\n",
              "      <td>256 GB SSD</td>\n",
              "      <td>35.56 cm (14 inch) Display</td>\n",
              "      <td>1 Year Limited Hardware Warranty, In Home Serv...</td>\n",
              "      <td>₹36,497</td>\n",
              "    </tr>\n",
              "    <tr>\n",
              "      <th>9</th>\n",
              "      <td>HP 15s Ryzen 3 Dual Core 3250U - (8 GB/1 TB HD...</td>\n",
              "      <td>AMD Ryzen 3 Dual Core Processor</td>\n",
              "      <td>8 GB DDR4 RAM</td>\n",
              "      <td>64 bit Windows 10 Operating System</td>\n",
              "      <td>1 TB HDD|256 GB SSD</td>\n",
              "      <td>39.62 cm (15.6 inch) Display</td>\n",
              "      <td>1 Year Onsite Warranty</td>\n",
              "      <td>₹57,165</td>\n",
              "    </tr>\n",
              "    <tr>\n",
              "      <th>10</th>\n",
              "      <td>HP 15s Ryzen 3 Dual Core 3250U - (8 GB/1 TB HD...</td>\n",
              "      <td>AMD Ryzen 3 Dual Core Processor</td>\n",
              "      <td>8 GB DDR4 RAM</td>\n",
              "      <td>64 bit Windows 10 Operating System</td>\n",
              "      <td>256 GB SSD</td>\n",
              "      <td>35.56 cm (14 inch) Display</td>\n",
              "      <td>1 Year Onsite Warranty</td>\n",
              "      <td>₹41,490</td>\n",
              "    </tr>\n",
              "    <tr>\n",
              "      <th>11</th>\n",
              "      <td>HP 15s Ryzen 3 Dual Core 3250U - (8 GB/1 TB HD...</td>\n",
              "      <td>AMD Ryzen 3 Dual Core Processor</td>\n",
              "      <td>8 GB DDR4 RAM</td>\n",
              "      <td>64 bit Windows 10 Operating System</td>\n",
              "      <td>1 TB SSD</td>\n",
              "      <td>43.94 cm (17.3 Inch) Display</td>\n",
              "      <td>1 Year Onsite Warranty</td>\n",
              "      <td>₹1,19,990</td>\n",
              "    </tr>\n",
              "    <tr>\n",
              "      <th>12</th>\n",
              "      <td>HP 15s Ryzen 3 Dual Core 3250U - (8 GB/1 TB HD...</td>\n",
              "      <td>AMD Ryzen 3 Dual Core Processor</td>\n",
              "      <td>8 GB DDR4 RAM</td>\n",
              "      <td>64 bit Windows 10 Operating System</td>\n",
              "      <td>512 GB SSD</td>\n",
              "      <td>39.62 cm (15.6 inch) Display</td>\n",
              "      <td>1 Year Onsite Warranty</td>\n",
              "      <td>₹54,990</td>\n",
              "    </tr>\n",
              "    <tr>\n",
              "      <th>13</th>\n",
              "      <td>HP 15s Ryzen 3 Dual Core 3250U - (8 GB/1 TB HD...</td>\n",
              "      <td>AMD Ryzen 3 Dual Core Processor</td>\n",
              "      <td>8 GB DDR4 RAM</td>\n",
              "      <td>64 bit Windows 10 Operating System</td>\n",
              "      <td>512 GB SSD</td>\n",
              "      <td>35.56 cm (14 inch) Display</td>\n",
              "      <td>1 Year Onsite Warranty</td>\n",
              "      <td>₹38,990</td>\n",
              "    </tr>\n",
              "    <tr>\n",
              "      <th>14</th>\n",
              "      <td>HP 15s Ryzen 3 Dual Core 3250U - (8 GB/1 TB HD...</td>\n",
              "      <td>AMD Ryzen 3 Dual Core Processor</td>\n",
              "      <td>8 GB DDR4 RAM</td>\n",
              "      <td>64 bit Windows 10 Operating System</td>\n",
              "      <td>1 TB HDD|256 GB SSD</td>\n",
              "      <td>39.62 cm (15.6 inch) Display</td>\n",
              "      <td>1 Year Onsite Warranty</td>\n",
              "      <td>₹80,990</td>\n",
              "    </tr>\n",
              "    <tr>\n",
              "      <th>15</th>\n",
              "      <td>HP 15s Ryzen 3 Dual Core 3250U - (8 GB/1 TB HD...</td>\n",
              "      <td>AMD Ryzen 3 Dual Core Processor</td>\n",
              "      <td>8 GB DDR4 RAM</td>\n",
              "      <td>64 bit Windows 10 Operating System</td>\n",
              "      <td>512 GB SSD</td>\n",
              "      <td>39.62 cm (15.6 Inch) Display</td>\n",
              "      <td>1 Year Onsite Warranty</td>\n",
              "      <td>₹58,522</td>\n",
              "    </tr>\n",
              "    <tr>\n",
              "      <th>16</th>\n",
              "      <td>HP 15s Ryzen 3 Dual Core 3250U - (8 GB/1 TB HD...</td>\n",
              "      <td>AMD Ryzen 3 Dual Core Processor</td>\n",
              "      <td>8 GB DDR4 RAM</td>\n",
              "      <td>64 bit Windows 10 Operating System</td>\n",
              "      <td>256 GB SSD</td>\n",
              "      <td>35.56 cm (14 Inch) Display</td>\n",
              "      <td>1 Year Onsite Warranty</td>\n",
              "      <td>₹43,990</td>\n",
              "    </tr>\n",
              "    <tr>\n",
              "      <th>17</th>\n",
              "      <td>HP 15s Ryzen 3 Dual Core 3250U - (8 GB/1 TB HD...</td>\n",
              "      <td>AMD Ryzen 3 Dual Core Processor</td>\n",
              "      <td>8 GB DDR4 RAM</td>\n",
              "      <td>64 bit Windows 10 Operating System</td>\n",
              "      <td>512 GB SSD</td>\n",
              "      <td>39.62 cm (15.6 inch) Display</td>\n",
              "      <td>1 Year Domestic Brand Warranty on Device</td>\n",
              "      <td>₹45,490</td>\n",
              "    </tr>\n",
              "    <tr>\n",
              "      <th>18</th>\n",
              "      <td>HP 15s Ryzen 3 Dual Core 3250U - (8 GB/1 TB HD...</td>\n",
              "      <td>AMD Ryzen 3 Dual Core Processor</td>\n",
              "      <td>8 GB DDR4 RAM</td>\n",
              "      <td>64 bit Windows 10 Operating System</td>\n",
              "      <td>1 TB HDD</td>\n",
              "      <td>39.62 cm (15.6 inch) Display</td>\n",
              "      <td>1 Year Onsite Warranty</td>\n",
              "      <td>₹42,990</td>\n",
              "    </tr>\n",
              "    <tr>\n",
              "      <th>19</th>\n",
              "      <td>HP 15s Ryzen 3 Dual Core 3250U - (8 GB/1 TB HD...</td>\n",
              "      <td>AMD Ryzen 3 Dual Core Processor</td>\n",
              "      <td>8 GB DDR4 RAM</td>\n",
              "      <td>64 bit Windows 10 Operating System</td>\n",
              "      <td>1 TB HDD</td>\n",
              "      <td>39.62 cm (15.6 inch) Display</td>\n",
              "      <td>1 Year Onsite Warranty</td>\n",
              "      <td>₹59,990</td>\n",
              "    </tr>\n",
              "  </tbody>\n",
              "</table>\n",
              "</div>"
            ],
            "text/plain": [
              "                                          Description  ...      Price\n",
              "0   HP 15s Ryzen 3 Dual Core 3250U - (8 GB/1 TB HD...  ...  ₹2,99,990\n",
              "1   HP 15s Ryzen 3 Dual Core 3250U - (8 GB/1 TB HD...  ...    ₹59,990\n",
              "2   HP 15s Ryzen 3 Dual Core 3250U - (8 GB/1 TB HD...  ...    ₹61,990\n",
              "3   HP 15s Ryzen 3 Dual Core 3250U - (8 GB/1 TB HD...  ...    ₹44,490\n",
              "4   HP 15s Ryzen 3 Dual Core 3250U - (8 GB/1 TB HD...  ...    ₹35,847\n",
              "5   HP 15s Ryzen 3 Dual Core 3250U - (8 GB/1 TB HD...  ...    ₹26,990\n",
              "6   HP 15s Ryzen 3 Dual Core 3250U - (8 GB/1 TB HD...  ...    ₹41,490\n",
              "7   HP 15s Ryzen 3 Dual Core 3250U - (8 GB/1 TB HD...  ...    ₹42,250\n",
              "8   HP 15s Ryzen 3 Dual Core 3250U - (8 GB/1 TB HD...  ...    ₹36,497\n",
              "9   HP 15s Ryzen 3 Dual Core 3250U - (8 GB/1 TB HD...  ...    ₹57,165\n",
              "10  HP 15s Ryzen 3 Dual Core 3250U - (8 GB/1 TB HD...  ...    ₹41,490\n",
              "11  HP 15s Ryzen 3 Dual Core 3250U - (8 GB/1 TB HD...  ...  ₹1,19,990\n",
              "12  HP 15s Ryzen 3 Dual Core 3250U - (8 GB/1 TB HD...  ...    ₹54,990\n",
              "13  HP 15s Ryzen 3 Dual Core 3250U - (8 GB/1 TB HD...  ...    ₹38,990\n",
              "14  HP 15s Ryzen 3 Dual Core 3250U - (8 GB/1 TB HD...  ...    ₹80,990\n",
              "15  HP 15s Ryzen 3 Dual Core 3250U - (8 GB/1 TB HD...  ...    ₹58,522\n",
              "16  HP 15s Ryzen 3 Dual Core 3250U - (8 GB/1 TB HD...  ...    ₹43,990\n",
              "17  HP 15s Ryzen 3 Dual Core 3250U - (8 GB/1 TB HD...  ...    ₹45,490\n",
              "18  HP 15s Ryzen 3 Dual Core 3250U - (8 GB/1 TB HD...  ...    ₹42,990\n",
              "19  HP 15s Ryzen 3 Dual Core 3250U - (8 GB/1 TB HD...  ...    ₹59,990\n",
              "\n",
              "[20 rows x 8 columns]"
            ]
          },
          "metadata": {
            "tags": []
          },
          "execution_count": 189
        }
      ]
    },
    {
      "cell_type": "code",
      "metadata": {
        "id": "WxNwIrU_nKhq"
      },
      "source": [
        "dataset.to_csv('laptop.csv')"
      ],
      "execution_count": null,
      "outputs": []
    },
    {
      "cell_type": "code",
      "metadata": {
        "id": "SS8hMTWO_5Kw"
      },
      "source": [
        "import matplotlib.pyplot as plt"
      ],
      "execution_count": null,
      "outputs": []
    },
    {
      "cell_type": "markdown",
      "metadata": {
        "id": "Zc_36dxCFhyP"
      },
      "source": [
        "**PLOTTING**"
      ]
    },
    {
      "cell_type": "code",
      "metadata": {
        "id": "I9QZm84-_5po"
      },
      "source": [
        "plt.style.use('bmh')\n",
        "df = pd.read_csv('laptop.csv')\n",
        "\n",
        "# All Brands\n",
        "x = df['Display']\n",
        "y = df['Price']"
      ],
      "execution_count": null,
      "outputs": []
    },
    {
      "cell_type": "code",
      "metadata": {
        "colab": {
          "base_uri": "https://localhost:8080/",
          "height": 284
        },
        "id": "T_ApqkYAACek",
        "outputId": "ec466288-d0b7-4800-9cf3-3ef257256e18"
      },
      "source": [
        "# Bar chart\n",
        "plt.xlabel('Display', fontsize=18)\n",
        "plt.ylabel('Price($)', fontsize=16)\n",
        "plt.bar(x, y)\n",
        "\n",
        "\n",
        "plt.show()"
      ],
      "execution_count": null,
      "outputs": [
        {
          "output_type": "display_data",
          "data": {
            "image/png": "[encoded data removed]",
            "text/plain": [
              "<Figure size 432x288 with 1 Axes>"
            ]
          },
          "metadata": {
            "tags": [],
            "needs_background": "light"
          }
        }
      ]
    },
    {
      "cell_type": "markdown",
      "metadata": {
        "id": "L_oZw_rgRhii"
      },
      "source": [
        "# New Section"
      ]
    }
  ]
}